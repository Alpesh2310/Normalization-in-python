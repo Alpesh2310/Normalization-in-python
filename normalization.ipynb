{
 "cells": [
  {
   "cell_type": "code",
   "execution_count": 232,
   "metadata": {},
   "outputs": [],
   "source": [
    "import pandas as pd\n",
    "import numpy as np\n"
   ]
  },
  {
   "cell_type": "code",
   "execution_count": 233,
   "metadata": {},
   "outputs": [
    {
     "data": {
      "text/html": [
       "<div>\n",
       "<style scoped>\n",
       "    .dataframe tbody tr th:only-of-type {\n",
       "        vertical-align: middle;\n",
       "    }\n",
       "\n",
       "    .dataframe tbody tr th {\n",
       "        vertical-align: top;\n",
       "    }\n",
       "\n",
       "    .dataframe thead th {\n",
       "        text-align: right;\n",
       "    }\n",
       "</style>\n",
       "<table border=\"1\" class=\"dataframe\">\n",
       "  <thead>\n",
       "    <tr style=\"text-align: right;\">\n",
       "      <th></th>\n",
       "      <th>order_date</th>\n",
       "      <th>customer_name</th>\n",
       "      <th>customer_phone</th>\n",
       "      <th>customer_primary_contact</th>\n",
       "      <th>delivery_address</th>\n",
       "      <th>Type_description</th>\n",
       "      <th>amount</th>\n",
       "      <th>Truck_type</th>\n",
       "      <th>Date_of_purchase</th>\n",
       "      <th>Employee_last_name</th>\n",
       "      <th>Employee_first_name</th>\n",
       "      <th>Date_of_hire</th>\n",
       "    </tr>\n",
       "  </thead>\n",
       "  <tbody>\n",
       "    <tr>\n",
       "      <th>0</th>\n",
       "      <td>30-06-2019</td>\n",
       "      <td>Smelding Homes</td>\n",
       "      <td>780-743-7548</td>\n",
       "      <td>Bill Johnson</td>\n",
       "      <td>55 Smith Lane</td>\n",
       "      <td>Home foundation and walkways</td>\n",
       "      <td>8</td>\n",
       "      <td>Ford</td>\n",
       "      <td>17-06-1999</td>\n",
       "      <td>Johnson</td>\n",
       "      <td>Emilio</td>\n",
       "      <td>01-02-1985</td>\n",
       "    </tr>\n",
       "  </tbody>\n",
       "</table>\n",
       "</div>"
      ],
      "text/plain": [
       "   order_date   customer_name customer_phone customer_primary_contact  \\\n",
       "0  30-06-2019  Smelding Homes   780-743-7548             Bill Johnson   \n",
       "\n",
       "  delivery_address              Type_description  amount Truck_type  \\\n",
       "0    55 Smith Lane  Home foundation and walkways       8       Ford   \n",
       "\n",
       "  Date_of_purchase Employee_last_name Employee_first_name Date_of_hire  \n",
       "0       17-06-1999            Johnson              Emilio   01-02-1985  "
      ]
     },
     "execution_count": 233,
     "metadata": {},
     "output_type": "execute_result"
    }
   ],
   "source": [
    "truck_data = pd.read_csv(\"truck dataset.csv\")\n",
    "truck_data.head(1)"
   ]
  },
  {
   "cell_type": "code",
   "execution_count": 296,
   "metadata": {},
   "outputs": [
    {
     "name": "stdout",
     "output_type": "stream",
     "text": [
      "<class 'pandas.core.frame.DataFrame'>\n",
      "RangeIndex: 149 entries, 0 to 148\n",
      "Data columns (total 12 columns):\n",
      " #   Column                    Non-Null Count  Dtype         \n",
      "---  ------                    --------------  -----         \n",
      " 0   order_date                149 non-null    datetime64[ns]\n",
      " 1   customer_name             149 non-null    object        \n",
      " 2   customer_phone            149 non-null    object        \n",
      " 3   customer_primary_contact  149 non-null    object        \n",
      " 4   delivery_address          149 non-null    object        \n",
      " 5   Type_description          149 non-null    object        \n",
      " 6   amount                    149 non-null    int64         \n",
      " 7   Truck_type                149 non-null    object        \n",
      " 8   Date_of_purchase          149 non-null    datetime64[ns]\n",
      " 9   Employee_last_name        149 non-null    object        \n",
      " 10  Employee_first_name       149 non-null    object        \n",
      " 11  Date_of_hire              149 non-null    datetime64[ns]\n",
      "dtypes: datetime64[ns](3), int64(1), object(8)\n",
      "memory usage: 14.1+ KB\n"
     ]
    }
   ],
   "source": [
    "truck_data.info()"
   ]
  },
  {
   "cell_type": "markdown",
   "metadata": {},
   "source": [
    "### Change date datatype"
   ]
  },
  {
   "cell_type": "code",
   "execution_count": 265,
   "metadata": {},
   "outputs": [],
   "source": [
    "truck_data[\"order_date\"]=pd.to_datetime(truck_data[\"order_date\"])\n",
    "truck_data[\"Date_of_purchase\"]=pd.to_datetime(truck_data[\"Date_of_purchase\"])\n",
    "truck_data[\"Date_of_hire\"]=pd.to_datetime(truck_data[\"Date_of_hire\"])"
   ]
  },
  {
   "cell_type": "markdown",
   "metadata": {},
   "source": [
    "### Extract employee data from  main data "
   ]
  },
  {
   "cell_type": "code",
   "execution_count": 266,
   "metadata": {},
   "outputs": [],
   "source": [
    "emp = truck_data.groupby([\"Employee_last_name\",\"Employee_first_name\",\n",
    "                          \"Date_of_hire\"])[\"amount\"].count().reset_index()"
   ]
  },
  {
   "cell_type": "markdown",
   "metadata": {},
   "source": [
    "#### Hear johson hire date is wrong"
   ]
  },
  {
   "cell_type": "code",
   "execution_count": 267,
   "metadata": {},
   "outputs": [],
   "source": [
    "truck_data.loc[truck_data[\"Date_of_hire\"] == \"1985-02-01\",\"Date_of_hire\"] = \"1985-01-02\""
   ]
  },
  {
   "cell_type": "markdown",
   "metadata": {},
   "source": [
    "#### Now create emp table emp_id column"
   ]
  },
  {
   "cell_type": "code",
   "execution_count": 268,
   "metadata": {},
   "outputs": [],
   "source": [
    "emp[\"emp_id\"] = [\"E_\" + str(i) for i in range(101,101+len(emp))]"
   ]
  },
  {
   "cell_type": "code",
   "execution_count": 269,
   "metadata": {},
   "outputs": [],
   "source": [
    "emp_table = emp[[\"emp_id\",\"Employee_first_name\",\"Employee_last_name\",\"Date_of_hire\"]]"
   ]
  },
  {
   "cell_type": "code",
   "execution_count": 240,
   "metadata": {},
   "outputs": [],
   "source": [
    "# emp_table=emp_table.set_index(\"emp_id\")"
   ]
  },
  {
   "cell_type": "markdown",
   "metadata": {},
   "source": [
    "### Extract customer data then create customer table"
   ]
  },
  {
   "cell_type": "code",
   "execution_count": 271,
   "metadata": {},
   "outputs": [],
   "source": [
    "cust = truck_data.groupby([\"customer_name\",\"customer_phone\",\n",
    "                    \"customer_primary_contact\"])[\"amount\"].count().reset_index()"
   ]
  },
  {
   "cell_type": "markdown",
   "metadata": {},
   "source": [
    "#### Hear \"Home Builders Superior\" contact number wrong and \"customer_primary_contact\" name is misspell"
   ]
  },
  {
   "cell_type": "code",
   "execution_count": 273,
   "metadata": {},
   "outputs": [],
   "source": [
    "truck_data.loc[(truck_data[\"customer_name\"]==\"Home Builders Superior\") & \n",
    "               (truck_data[\"customer_phone\"] == \"403-543-2987\"),\n",
    "               \"customer_phone\"] =\"587-643-0982\""
   ]
  },
  {
   "cell_type": "code",
   "execution_count": 274,
   "metadata": {},
   "outputs": [],
   "source": [
    "truck_data.loc[truck_data[\"customer_primary_contact\"] \n",
    "               == \"Bill Jonson\",\"customer_primary_contact\"] = \"Bill Johnson\""
   ]
  },
  {
   "cell_type": "code",
   "execution_count": 275,
   "metadata": {},
   "outputs": [],
   "source": [
    "cust[\"cus_id\"] = [\"c\" + str(i) for i in range(101,101+len(cust))]"
   ]
  },
  {
   "cell_type": "code",
   "execution_count": 276,
   "metadata": {},
   "outputs": [],
   "source": [
    "customer_table = cust[[\"cus_id\",\"customer_name\",\"customer_phone\",\"customer_primary_contact\"]]"
   ]
  },
  {
   "cell_type": "code",
   "execution_count": 247,
   "metadata": {},
   "outputs": [],
   "source": [
    "# customer_table = customer_table.set_index(\"cus_id\")"
   ]
  },
  {
   "cell_type": "markdown",
   "metadata": {},
   "source": [
    "#### Extract truck data "
   ]
  },
  {
   "cell_type": "code",
   "execution_count": 279,
   "metadata": {},
   "outputs": [],
   "source": [
    "truck  = truck_data.groupby([\"Truck_type\",\"Type_description\"])[\"amount\"].count().reset_index()"
   ]
  },
  {
   "cell_type": "code",
   "execution_count": 280,
   "metadata": {},
   "outputs": [],
   "source": [
    "truck[\"t_id\"] = [\"t\" + str(i) for i in range(101,101+len(truck))]"
   ]
  },
  {
   "cell_type": "code",
   "execution_count": 281,
   "metadata": {},
   "outputs": [],
   "source": [
    "truck_table = truck[[\"t_id\",\"Truck_type\",\"Type_description\"]]"
   ]
  },
  {
   "cell_type": "code",
   "execution_count": 253,
   "metadata": {},
   "outputs": [],
   "source": [
    "# truck_table = truck_table.set_index(\"t_id\")"
   ]
  },
  {
   "cell_type": "markdown",
   "metadata": {},
   "source": [
    "#### Now merge all table in main table"
   ]
  },
  {
   "cell_type": "markdown",
   "metadata": {},
   "source": [
    "#### Merge main table and employee table"
   ]
  },
  {
   "cell_type": "code",
   "execution_count": 284,
   "metadata": {},
   "outputs": [],
   "source": [
    "t_e = truck_data.merge(emp_table,how=\"inner\",on=\"Employee_first_name\")\n"
   ]
  },
  {
   "cell_type": "markdown",
   "metadata": {},
   "source": [
    "#### Now merge last merge table and customer table"
   ]
  },
  {
   "cell_type": "code",
   "execution_count": 286,
   "metadata": {},
   "outputs": [],
   "source": [
    "t_e_c = t_e.merge(customer_table,how=\"inner\",on=\"customer_name\")"
   ]
  },
  {
   "cell_type": "markdown",
   "metadata": {},
   "source": [
    "#### Now merge last merge table and truck table"
   ]
  },
  {
   "cell_type": "code",
   "execution_count": 288,
   "metadata": {},
   "outputs": [
    {
     "data": {
      "text/plain": [
       "(149, 19)"
      ]
     },
     "execution_count": 288,
     "metadata": {},
     "output_type": "execute_result"
    }
   ],
   "source": [
    "t_e_c_t = t_e_c.merge(truck_table,how = \"inner\",on=[\"Truck_type\",\"Type_description\"])\n",
    "t_e_c_t.shape"
   ]
  },
  {
   "cell_type": "markdown",
   "metadata": {},
   "source": [
    "#### Now extract main table"
   ]
  },
  {
   "cell_type": "code",
   "execution_count": 290,
   "metadata": {},
   "outputs": [],
   "source": [
    "t_e_c_t[\"order_id\"] = [\"o\" + str(i) for i in range(101,101+len(t_e_c_t))]"
   ]
  },
  {
   "cell_type": "code",
   "execution_count": null,
   "metadata": {},
   "outputs": [],
   "source": [
    "order_data = t_e_c_t[[\"order_id\",\"delivery_address\",\"amount\",\n",
    "                      \"Date_of_purchase\",\"emp_id\",\"cus_id\",\"t_id\"]]"
   ]
  },
  {
   "cell_type": "code",
   "execution_count": 292,
   "metadata": {},
   "outputs": [
    {
     "data": {
      "text/html": [
       "<div>\n",
       "<style scoped>\n",
       "    .dataframe tbody tr th:only-of-type {\n",
       "        vertical-align: middle;\n",
       "    }\n",
       "\n",
       "    .dataframe tbody tr th {\n",
       "        vertical-align: top;\n",
       "    }\n",
       "\n",
       "    .dataframe thead th {\n",
       "        text-align: right;\n",
       "    }\n",
       "</style>\n",
       "<table border=\"1\" class=\"dataframe\">\n",
       "  <thead>\n",
       "    <tr style=\"text-align: right;\">\n",
       "      <th></th>\n",
       "      <th>order_id</th>\n",
       "      <th>delivery_address</th>\n",
       "      <th>amount</th>\n",
       "      <th>Date_of_purchase</th>\n",
       "      <th>emp_id</th>\n",
       "      <th>cus_id</th>\n",
       "      <th>t_id</th>\n",
       "    </tr>\n",
       "  </thead>\n",
       "  <tbody>\n",
       "    <tr>\n",
       "      <th>0</th>\n",
       "      <td>o101</td>\n",
       "      <td>55 Smith Lane</td>\n",
       "      <td>8</td>\n",
       "      <td>1999-06-17</td>\n",
       "      <td>E_102</td>\n",
       "      <td>c105</td>\n",
       "      <td>t106</td>\n",
       "    </tr>\n",
       "    <tr>\n",
       "      <th>1</th>\n",
       "      <td>o102</td>\n",
       "      <td>2122 E. Biscayne</td>\n",
       "      <td>3</td>\n",
       "      <td>2001-12-24</td>\n",
       "      <td>E_103</td>\n",
       "      <td>c103</td>\n",
       "      <td>t106</td>\n",
       "    </tr>\n",
       "    <tr>\n",
       "      <th>2</th>\n",
       "      <td>o103</td>\n",
       "      <td>55 Smith Lane</td>\n",
       "      <td>6</td>\n",
       "      <td>2001-12-24</td>\n",
       "      <td>E_101</td>\n",
       "      <td>c105</td>\n",
       "      <td>t108</td>\n",
       "    </tr>\n",
       "    <tr>\n",
       "      <th>3</th>\n",
       "      <td>o104</td>\n",
       "      <td>1333 Burr Ridge</td>\n",
       "      <td>4</td>\n",
       "      <td>2002-01-01</td>\n",
       "      <td>E_101</td>\n",
       "      <td>c106</td>\n",
       "      <td>t105</td>\n",
       "    </tr>\n",
       "    <tr>\n",
       "      <th>4</th>\n",
       "      <td>o105</td>\n",
       "      <td>1333 Burr Ridge</td>\n",
       "      <td>8</td>\n",
       "      <td>2001-12-24</td>\n",
       "      <td>E_103</td>\n",
       "      <td>c106</td>\n",
       "      <td>t110</td>\n",
       "    </tr>\n",
       "  </tbody>\n",
       "</table>\n",
       "</div>"
      ],
      "text/plain": [
       "  order_id  delivery_address  amount Date_of_purchase emp_id cus_id  t_id\n",
       "0     o101     55 Smith Lane       8       1999-06-17  E_102   c105  t106\n",
       "1     o102  2122 E. Biscayne       3       2001-12-24  E_103   c103  t106\n",
       "2     o103     55 Smith Lane       6       2001-12-24  E_101   c105  t108\n",
       "3     o104   1333 Burr Ridge       4       2002-01-01  E_101   c106  t105\n",
       "4     o105   1333 Burr Ridge       8       2001-12-24  E_103   c106  t110"
      ]
     },
     "execution_count": 292,
     "metadata": {},
     "output_type": "execute_result"
    }
   ],
   "source": [
    "order_data.head(5)"
   ]
  },
  {
   "cell_type": "code",
   "execution_count": 293,
   "metadata": {},
   "outputs": [
    {
     "data": {
      "text/html": [
       "<div>\n",
       "<style scoped>\n",
       "    .dataframe tbody tr th:only-of-type {\n",
       "        vertical-align: middle;\n",
       "    }\n",
       "\n",
       "    .dataframe tbody tr th {\n",
       "        vertical-align: top;\n",
       "    }\n",
       "\n",
       "    .dataframe thead th {\n",
       "        text-align: right;\n",
       "    }\n",
       "</style>\n",
       "<table border=\"1\" class=\"dataframe\">\n",
       "  <thead>\n",
       "    <tr style=\"text-align: right;\">\n",
       "      <th></th>\n",
       "      <th>emp_id</th>\n",
       "      <th>Employee_first_name</th>\n",
       "      <th>Employee_last_name</th>\n",
       "      <th>Date_of_hire</th>\n",
       "    </tr>\n",
       "  </thead>\n",
       "  <tbody>\n",
       "    <tr>\n",
       "      <th>0</th>\n",
       "      <td>E_101</td>\n",
       "      <td>Antonio</td>\n",
       "      <td>Evarez</td>\n",
       "      <td>1992-03-03</td>\n",
       "    </tr>\n",
       "    <tr>\n",
       "      <th>1</th>\n",
       "      <td>E_102</td>\n",
       "      <td>Emilio</td>\n",
       "      <td>Johnson</td>\n",
       "      <td>1985-01-02</td>\n",
       "    </tr>\n",
       "    <tr>\n",
       "      <th>2</th>\n",
       "      <td>E_103</td>\n",
       "      <td>John</td>\n",
       "      <td>Robertson</td>\n",
       "      <td>1999-01-06</td>\n",
       "    </tr>\n",
       "    <tr>\n",
       "      <th>3</th>\n",
       "      <td>E_104</td>\n",
       "      <td>Allison</td>\n",
       "      <td>Smithson</td>\n",
       "      <td>1997-01-04</td>\n",
       "    </tr>\n",
       "  </tbody>\n",
       "</table>\n",
       "</div>"
      ],
      "text/plain": [
       "  emp_id Employee_first_name Employee_last_name Date_of_hire\n",
       "0  E_101             Antonio             Evarez   1992-03-03\n",
       "1  E_102              Emilio            Johnson   1985-01-02\n",
       "2  E_103                John          Robertson   1999-01-06\n",
       "3  E_104             Allison           Smithson   1997-01-04"
      ]
     },
     "execution_count": 293,
     "metadata": {},
     "output_type": "execute_result"
    }
   ],
   "source": [
    "emp_table"
   ]
  },
  {
   "cell_type": "code",
   "execution_count": 294,
   "metadata": {},
   "outputs": [
    {
     "data": {
      "text/html": [
       "<div>\n",
       "<style scoped>\n",
       "    .dataframe tbody tr th:only-of-type {\n",
       "        vertical-align: middle;\n",
       "    }\n",
       "\n",
       "    .dataframe tbody tr th {\n",
       "        vertical-align: top;\n",
       "    }\n",
       "\n",
       "    .dataframe thead th {\n",
       "        text-align: right;\n",
       "    }\n",
       "</style>\n",
       "<table border=\"1\" class=\"dataframe\">\n",
       "  <thead>\n",
       "    <tr style=\"text-align: right;\">\n",
       "      <th></th>\n",
       "      <th>cus_id</th>\n",
       "      <th>customer_name</th>\n",
       "      <th>customer_phone</th>\n",
       "      <th>customer_primary_contact</th>\n",
       "    </tr>\n",
       "  </thead>\n",
       "  <tbody>\n",
       "    <tr>\n",
       "      <th>0</th>\n",
       "      <td>c101</td>\n",
       "      <td>Home Builders Superior</td>\n",
       "      <td>587-643-0982</td>\n",
       "      <td>Marcus Connolly</td>\n",
       "    </tr>\n",
       "    <tr>\n",
       "      <th>1</th>\n",
       "      <td>c102</td>\n",
       "      <td>Home Makers</td>\n",
       "      <td>250-981-8543</td>\n",
       "      <td>John Yu</td>\n",
       "    </tr>\n",
       "    <tr>\n",
       "      <th>2</th>\n",
       "      <td>c103</td>\n",
       "      <td>Mark Akey</td>\n",
       "      <td>403-543-2987</td>\n",
       "      <td>Mark Akey</td>\n",
       "    </tr>\n",
       "    <tr>\n",
       "      <th>3</th>\n",
       "      <td>c104</td>\n",
       "      <td>Sheryl Williamson</td>\n",
       "      <td>403-222-8674</td>\n",
       "      <td>Sheryl Williamson</td>\n",
       "    </tr>\n",
       "    <tr>\n",
       "      <th>4</th>\n",
       "      <td>c105</td>\n",
       "      <td>Smelding Homes</td>\n",
       "      <td>780-743-7548</td>\n",
       "      <td>Bill Johnson</td>\n",
       "    </tr>\n",
       "    <tr>\n",
       "      <th>5</th>\n",
       "      <td>c106</td>\n",
       "      <td>Triple A Homes</td>\n",
       "      <td>780-453-2087</td>\n",
       "      <td>Janielle Smith</td>\n",
       "    </tr>\n",
       "  </tbody>\n",
       "</table>\n",
       "</div>"
      ],
      "text/plain": [
       "  cus_id           customer_name customer_phone customer_primary_contact\n",
       "0   c101  Home Builders Superior   587-643-0982          Marcus Connolly\n",
       "1   c102             Home Makers   250-981-8543                  John Yu\n",
       "2   c103               Mark Akey   403-543-2987                Mark Akey\n",
       "3   c104       Sheryl Williamson   403-222-8674        Sheryl Williamson\n",
       "4   c105          Smelding Homes   780-743-7548             Bill Johnson\n",
       "5   c106          Triple A Homes   780-453-2087           Janielle Smith"
      ]
     },
     "execution_count": 294,
     "metadata": {},
     "output_type": "execute_result"
    }
   ],
   "source": [
    "customer_table"
   ]
  },
  {
   "cell_type": "code",
   "execution_count": 295,
   "metadata": {},
   "outputs": [
    {
     "data": {
      "text/html": [
       "<div>\n",
       "<style scoped>\n",
       "    .dataframe tbody tr th:only-of-type {\n",
       "        vertical-align: middle;\n",
       "    }\n",
       "\n",
       "    .dataframe tbody tr th {\n",
       "        vertical-align: top;\n",
       "    }\n",
       "\n",
       "    .dataframe thead th {\n",
       "        text-align: right;\n",
       "    }\n",
       "</style>\n",
       "<table border=\"1\" class=\"dataframe\">\n",
       "  <thead>\n",
       "    <tr style=\"text-align: right;\">\n",
       "      <th></th>\n",
       "      <th>t_id</th>\n",
       "      <th>Truck_type</th>\n",
       "      <th>Type_description</th>\n",
       "    </tr>\n",
       "  </thead>\n",
       "  <tbody>\n",
       "    <tr>\n",
       "      <th>0</th>\n",
       "      <td>t101</td>\n",
       "      <td>Chevy</td>\n",
       "      <td>Home foundation and walkways</td>\n",
       "    </tr>\n",
       "    <tr>\n",
       "      <th>1</th>\n",
       "      <td>t102</td>\n",
       "      <td>Chevy</td>\n",
       "      <td>Premier marble (concrete with crushed marble a...</td>\n",
       "    </tr>\n",
       "    <tr>\n",
       "      <th>2</th>\n",
       "      <td>t103</td>\n",
       "      <td>Chevy</td>\n",
       "      <td>Premier shell (concrete with shell aggregate)</td>\n",
       "    </tr>\n",
       "    <tr>\n",
       "      <th>3</th>\n",
       "      <td>t104</td>\n",
       "      <td>Chevy</td>\n",
       "      <td>Premier speckled(concrete with pea-size smooth...</td>\n",
       "    </tr>\n",
       "    <tr>\n",
       "      <th>4</th>\n",
       "      <td>t105</td>\n",
       "      <td>Chevy</td>\n",
       "      <td>commercial foundation and infrastructure</td>\n",
       "    </tr>\n",
       "    <tr>\n",
       "      <th>5</th>\n",
       "      <td>t106</td>\n",
       "      <td>Ford</td>\n",
       "      <td>Home foundation and walkways</td>\n",
       "    </tr>\n",
       "    <tr>\n",
       "      <th>6</th>\n",
       "      <td>t107</td>\n",
       "      <td>Ford</td>\n",
       "      <td>Premier marble (concrete with crushed marble a...</td>\n",
       "    </tr>\n",
       "    <tr>\n",
       "      <th>7</th>\n",
       "      <td>t108</td>\n",
       "      <td>Ford</td>\n",
       "      <td>Premier shell (concrete with shell aggregate)</td>\n",
       "    </tr>\n",
       "    <tr>\n",
       "      <th>8</th>\n",
       "      <td>t109</td>\n",
       "      <td>Ford</td>\n",
       "      <td>Premier speckled(concrete with pea-size smooth...</td>\n",
       "    </tr>\n",
       "    <tr>\n",
       "      <th>9</th>\n",
       "      <td>t110</td>\n",
       "      <td>Ford</td>\n",
       "      <td>commercial foundation and infrastructure</td>\n",
       "    </tr>\n",
       "  </tbody>\n",
       "</table>\n",
       "</div>"
      ],
      "text/plain": [
       "   t_id Truck_type                                   Type_description\n",
       "0  t101      Chevy                       Home foundation and walkways\n",
       "1  t102      Chevy  Premier marble (concrete with crushed marble a...\n",
       "2  t103      Chevy      Premier shell (concrete with shell aggregate)\n",
       "3  t104      Chevy  Premier speckled(concrete with pea-size smooth...\n",
       "4  t105      Chevy           commercial foundation and infrastructure\n",
       "5  t106       Ford                       Home foundation and walkways\n",
       "6  t107       Ford  Premier marble (concrete with crushed marble a...\n",
       "7  t108       Ford      Premier shell (concrete with shell aggregate)\n",
       "8  t109       Ford  Premier speckled(concrete with pea-size smooth...\n",
       "9  t110       Ford           commercial foundation and infrastructure"
      ]
     },
     "execution_count": 295,
     "metadata": {},
     "output_type": "execute_result"
    }
   ],
   "source": [
    "truck_table"
   ]
  },
  {
   "cell_type": "code",
   "execution_count": null,
   "metadata": {},
   "outputs": [],
   "source": []
  }
 ],
 "metadata": {
  "kernelspec": {
   "display_name": "Python 3",
   "language": "python",
   "name": "python3"
  },
  "language_info": {
   "codemirror_mode": {
    "name": "ipython",
    "version": 3
   },
   "file_extension": ".py",
   "mimetype": "text/x-python",
   "name": "python",
   "nbconvert_exporter": "python",
   "pygments_lexer": "ipython3",
   "version": "3.12.4"
  }
 },
 "nbformat": 4,
 "nbformat_minor": 2
}
